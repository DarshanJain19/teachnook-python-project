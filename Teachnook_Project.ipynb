{
 "cells": [
  {
   "cell_type": "markdown",
   "id": "2e760f7b-205d-4426-ac8a-d9c0982b2895",
   "metadata": {},
   "source": [
    "# Problem 1\n",
    "In a cricket tournament, based on the outcome of a particular match a team gets following points:\n",
    "\n",
    "wins gets 7 points\n",
    "draws gets 2 points\n",
    "losses gets 0 points\n",
    "Team Aravali plays 8 matches in this tournament. It wins 4 matches, loses 3 matches and draws 1. What is the total number of points gained by the Team austria?\n",
    "\n",
    "\n",
    "a) The outcome variables are defined below?\n",
    "b) Calculate the total points gained by Team Austria and print.\n"
   ]
  },
  {
   "cell_type": "code",
   "execution_count": 2,
   "id": "bbf340d8-d3c9-4ce9-b54d-28c3d36db511",
   "metadata": {},
   "outputs": [
    {
     "name": "stdout",
     "output_type": "stream",
     "text": [
      "Total points of Team Aravali: 30\n",
      "Total points of Team Austria 23\n"
     ]
    }
   ],
   "source": [
    "wins=7\n",
    "draws = 2\n",
    "losses = 0\n",
    "#Aravali Points in total\n",
    "aravali_points = 4*wins + 3*losses + 1*draws\n",
    "print('Total points of Team Aravali:', aravali_points)\n",
    "#Austria Points in total\n",
    "austria_points = 3*wins + 4*losses + 1*draws\n",
    "print('Total points of Team Austria', austria_points)"
   ]
  },
  {
   "cell_type": "markdown",
   "id": "c17bf380-4257-4161-b884-e8bcd26ea9d6",
   "metadata": {},
   "source": [
    "# Problem 2\n",
    "Root of a function  f(x)  is defined as the value  x  where  f(x)=0 \n",
    "Consider a quadratic function  f(x)=x2+3x−4 \n",
    "Find the value of the function  f(x)  at points  x=7,x=−1,x=1 .\n",
    "  a)Calculate the value of the function f(x) at x = 2.\n",
    "  b) Calculate the value of the function f(x) at x = 1"
   ]
  },
  {
   "cell_type": "code",
   "execution_count": 6,
   "id": "721dd2a8-b28b-4bf9-87db-2515032502b5",
   "metadata": {},
   "outputs": [
    {
     "name": "stdin",
     "output_type": "stream",
     "text": [
      "Enter value:  45\n"
     ]
    },
    {
     "name": "stdout",
     "output_type": "stream",
     "text": [
      "Quadratic Equation: f(x)= x**2+3*x-4\n",
      "Value of f(x) at point 45 = 2156\n"
     ]
    }
   ],
   "source": [
    "b = int(input('Enter value: '))\n",
    "\n",
    "x = b\n",
    "\n",
    "a=(x:= x**2+3*x-4)\n",
    "\n",
    "print('Quadratic Equation: f(x)= x**2+3*x-4')\n",
    "\n",
    "print('Value of f(x) at point',b,\"=\", a)\n"
   ]
  },
  {
   "cell_type": "markdown",
   "id": "844240dc-3d41-403f-9594-1fbf5c063858",
   "metadata": {},
   "source": [
    "# Problem 3\n",
    "A list contains the average daily temperature(in degree Celsius) of a city over a particular week. Write a Python code to swap the highest and the lowest temperatures\n",
    "\n",
    "a) A list containing average daily temperature over a week \n",
    "temperatures = [34, 40, 29, 33, 42, 37, 39 ]\n",
    "b) The expected output \n",
    "c)Store the highest temperature\n",
    "d) Index of the element with the highest temperature\n",
    "max_temp_index = \n",
    "e) Store the lowest temperature \n",
    "min_temp = \n",
    "f) Index of the element with the lowest temperature\n",
    "min_temp_index = "
   ]
  },
  {
   "cell_type": "code",
   "execution_count": 10,
   "id": "5f013183-cbc6-4b3c-80d3-99d0229f4116",
   "metadata": {},
   "outputs": [
    {
     "name": "stdout",
     "output_type": "stream",
     "text": [
      "Swapping of Minimum and Maximum Temperature: 29 391\n",
      "Highest Temperature: 391\n",
      "index of highest temperature in list: 6\n",
      "Minimum Temperature: 29\n",
      "Index of Minimum Temperature: 2\n"
     ]
    }
   ],
   "source": [
    "temp=[134, 40, 29, 33, 42, 37, 391]\n",
    "\n",
    "a=max(temp)\n",
    "b= min(temp)\n",
    "\n",
    "c=a\n",
    "a=b\n",
    "b=c\n",
    "\n",
    "#b \n",
    "print('Swapping of Minimum and Maximum Temperature:',a,b)\n",
    "\n",
    "#c\n",
    "max_temp = max(temp)\n",
    "print('Highest Temperature:',max_temp)\n",
    "\n",
    "#d\n",
    "max_temp_index = temp.index(max(temp))\n",
    "print('index of highest temperature in list:', max_temp_index)\n",
    "\n",
    "#e \n",
    "min_temp=min(temp)\n",
    "\n",
    "print('Minimum Temperature:',min_temp)\n",
    "\n",
    "#f \n",
    "min_temp_index=temp.index(min(temp)) \n",
    "print('Index of Minimum Temperature:',min_temp_index)"
   ]
  },
  {
   "cell_type": "markdown",
   "id": "09fc527a-267e-4f1e-8a7a-198a087d7886",
   "metadata": {},
   "source": [
    "# problem 4\n",
    "\n",
    "Calculate the median price\n",
    "a) Step 1 - Obtain the sorted list\n",
    "b)Check if the number of elements in the list is even or odd\n",
    "c)Use the corresponding formula to calculate the median and print the median\n",
    "d) Check which is greater, mean or median"
   ]
  },
  {
   "cell_type": "code",
   "execution_count": 28,
   "id": "018b6c61-0145-4f54-ad8d-f8f43f09f2da",
   "metadata": {},
   "outputs": [],
   "source": [
    "def findMedian(a, n):\n",
    "    a = sorted(a)  # Correctly sort the list and assign\n",
    "\n",
    "    if n % 2 != 0:\n",
    "        return float(a[n // 2])\n",
    "\n",
    "    return float((a[(n - 1) // 2] + a[n // 2]) / 2.0)\n",
    "\n",
    "# Driver code\n",
    "a = [1, 3, 4, 2, 5, 8, 6]\n",
    "n = len(a)\n",
    "\n",
    "print(\"Median is:\", findMedian(a, n))\n"
   ]
  },
  {
   "cell_type": "markdown",
   "id": "94759919-7d7a-441e-b243-4cc06a813591",
   "metadata": {},
   "source": [
    "# Problem 5\n",
    "Having a nested list sometimes might be a bit problematic. An individual was asked to collect the names of companies in the technology sector.\n",
    " While creating the list, by mistake the last three companies were subsumed in a list as shown below. You are required to get rid of the nesting\n",
    "\n",
    "a)The list of tech companies curated by the individual\n",
    "tech_companies = ['Qualcomm','Google','Apple',['Nvidia','Cisco','Samsung']]"
   ]
  },
  {
   "cell_type": "code",
   "execution_count": 29,
   "id": "3487b878-7485-4861-bfc4-7a6b71b0b55c",
   "metadata": {},
   "outputs": [
    {
     "name": "stdout",
     "output_type": "stream",
     "text": [
      "['Qualcom', 'Google', 'Apple']\n"
     ]
    }
   ],
   "source": [
    "tech_companies=['Qualcom','Google','Apple',['Nvidia','Cisco','Samsung']]\n",
    "print(tech_companies[:3])"
   ]
  },
  {
   "cell_type": "markdown",
   "id": "d0b12d70-3a91-4f12-a065-0f3a09dc5672",
   "metadata": {},
   "source": [
    "# Problem 6\n",
    "Another measure of average\n",
    "Mode is defined as the value that appears most often in a set of data values. Mode corresponds to the most frequent value.\n",
    "You are given a list of numbers and you need to calculate the mode of this list.\n",
    "\n",
    " A list containing average daily temperature over 10 days\n",
    "temperatures = [34, 40, 29, 33, 42, 40, 39, 34, 34,33 ]"
   ]
  },
  {
   "cell_type": "code",
   "execution_count": 31,
   "id": "a72bc443-4777-47cf-8581-4834a10a0c38",
   "metadata": {},
   "outputs": [
    {
     "name": "stdout",
     "output_type": "stream",
     "text": [
      "34\n"
     ]
    }
   ],
   "source": [
    "import statistics\n",
    "temperatures= [34, 40, 29, 33, 42, 40, 39, 34, 34,33 ]\n",
    "print(statistics.mode(temperatures))"
   ]
  },
  {
   "cell_type": "markdown",
   "id": "413d7037-1c46-4970-b5be-6b36631cd2aa",
   "metadata": {},
   "source": [
    "# Problem 7 - numpy\n",
    "Construct a 2-D  10∗10  matrix with the following constraints:\n",
    "The element at  [0,0]  should be 1\n",
    "The element at  [0,9]  should be 100\n",
    "The element at  [9,0]  should be 50\n",
    "The interval between elements in rows should be constant\n",
    "The interval between elements in columns should be constant"
   ]
  },
  {
   "cell_type": "code",
   "execution_count": 36,
   "id": "a595c2a0-ab6a-4476-8e5c-4939441a75fb",
   "metadata": {},
   "outputs": [
    {
     "name": "stdout",
     "output_type": "stream",
     "text": [
      " 1.00  0.00  0.00  0.00  0.00  0.00  0.00  0.00  0.00 100.00  6.44  0.00  0.00  0.00  0.00  0.00  0.00  0.00  0.00 100.00 11.89  0.00  0.00  0.00  0.00  0.00  0.00  0.00  0.00 100.00 17.33  0.00  0.00  0.00  0.00  0.00  0.00  0.00  0.00 100.00 22.78  0.00  0.00  0.00  0.00  0.00  0.00  0.00  0.00 100.00 28.22  0.00  0.00  0.00  0.00  0.00  0.00  0.00  0.00 100.00 33.67  0.00  0.00  0.00  0.00  0.00  0.00  0.00  0.00 100.00 39.11  0.00  0.00  0.00  0.00  0.00  0.00  0.00  0.00 100.00 44.56  0.00  0.00  0.00  0.00  0.00  0.00  0.00  0.00 100.00 50.00 55.56 61.11 66.67 72.22 77.78 83.33 88.89 94.44 100.00 \n"
     ]
    }
   ],
   "source": [
    "mat=[[0]*10 for i in range(10)]\n",
    "\n",
    "x_00 = 1 # [0, 0]\n",
    "\n",
    "x_09 = 100 # [0, 9]\n",
    "\n",
    "x_90 = 50 # [9, 0]\n",
    "\n",
    "x_99 = 100# [9, 9]\n",
    "\n",
    "for row in range(10):\n",
    "    mat[row][0] = x_00 + row*(x_90-x_00) / 9 \n",
    "    mat[row][9] = x_09 + row*(x_99-x_09) / 9\n",
    "\n",
    "for col in range(9):\n",
    "    mat[row][col] = mat [row] [0] + col*(mat[row][9]-mat[row][0]) / 9\n",
    "\n",
    "for row in range(10):\n",
    "    for col in range(10):\n",
    "        print(\"{:5.2f}\".format(mat[row][col]), end=' ')\n",
    "\n",
    "print()"
   ]
  },
  {
   "cell_type": "markdown",
   "id": "dd6b0e22-0deb-44de-bf96-da8baee82818",
   "metadata": {},
   "source": [
    "# Problem 8  - numpy\n",
    "Construct a list of first 100 natural numbers.Create a two dimensional array with 10 rows and whose each row contains 10 columns and each number in this array is the square of the number from your constructed list.\n",
    "For example : [[1,4,9,...,100],[121,144,...],......,]"
   ]
  },
  {
   "cell_type": "code",
   "execution_count": 38,
   "id": "4a51786e-e85d-4e3e-8c59-8a5a4b7c160e",
   "metadata": {},
   "outputs": [
    {
     "name": "stdout",
     "output_type": "stream",
     "text": [
      "[[0, 0, 0, 0, 0, 0, 0, 0, 0, 0], [0, 0, 0, 0, 0, 0, 0, 0, 0, 0], [0, 0, 0, 0, 0, 0, 0, 0, 0, 0], [0, 0, 0, 0, 0, 0, 0, 0, 0, 0], [0, 0, 0, 0, 0, 0, 0, 0, 0, 0], [0, 0, 0, 0, 0, 0, 0, 0, 0, 0], [0, 0, 0, 0, 0, 0, 0, 0, 0, 0], [0, 0, 0, 0, 0, 0, 0, 0, 0, 0], [0, 0, 0, 0, 0, 0, 0, 0, 0, 0], [8281, 8464, 8649, 8836, 9025, 9216, 9409, 9604, 9801, 10000]]\n"
     ]
    }
   ],
   "source": [
    "#Create a list of forst 100 natural numbers\n",
    "L1=list(range(1,101))\n",
    "\n",
    "#Create a two dimentional array 10x10\n",
    "array=[[0]*10 for i in range(10)]\n",
    "\n",
    "#fill the array by squared numbers from the list\n",
    "for i in range(len(L1)):\n",
    "    roqw=i//10\n",
    "    col=i%10\n",
    "    array[row][col]=L1[i]*L1[i]\n",
    "print(array)"
   ]
  },
  {
   "cell_type": "code",
   "execution_count": null,
   "id": "0cbead5f-9777-497b-ad74-7ba58177a072",
   "metadata": {},
   "outputs": [],
   "source": []
  }
 ],
 "metadata": {
  "kernelspec": {
   "display_name": "Python [conda env:base] *",
   "language": "python",
   "name": "conda-base-py"
  },
  "language_info": {
   "codemirror_mode": {
    "name": "ipython",
    "version": 3
   },
   "file_extension": ".py",
   "mimetype": "text/x-python",
   "name": "python",
   "nbconvert_exporter": "python",
   "pygments_lexer": "ipython3",
   "version": "3.13.5"
  }
 },
 "nbformat": 4,
 "nbformat_minor": 5
}
